{
  "nbformat": 4,
  "nbformat_minor": 0,
  "metadata": {
    "accelerator": "GPU",
    "colab": {
      "name": "b2-graphsage.ipynb",
      "provenance": []
    },
    "kernelspec": {
      "name": "python3",
      "display_name": "Python 3"
    },
    "language_info": {
      "name": "python"
    }
  },
  "cells": [
    {
      "cell_type": "markdown",
      "metadata": {
        "id": "yS3hhwYyt2wP"
      },
      "source": [
        "# Using GraphSAGE to Generate Embeddings for Unseen Data"
      ]
    },
    {
      "cell_type": "markdown",
      "metadata": {
        "id": "-v9Mownut2wS"
      },
      "source": [
        "The GraphSAGE (SAmple and aggreGatE) algorithm [13] emerged in 2017 as a method for not only learning useful vertex embeddings, but also for predicting vertex embeddings on unseen vertices. This allows powerful high-level feature vectors to be produced for vertices which were not seen at train time; enabling us to effectively work with dynamic graphs, or very large graphs (>100, 000 vertices).\n",
        "\n",
        "\n",
        "A GraphSAGE net is built up of k convolutional layers, called SageConv layers by the authors. Like other GNNs, they use a message-passing algorithm to combine neighbourhood features for each node. These features are then aggregated using a reduce function like max pool or mean."
      ]
    },
    {
      "cell_type": "markdown",
      "metadata": {
        "id": "0AW2N3UAt2wT"
      },
      "source": [
        "## Setup\n",
        "Here we load required libraries, define paths to data, and define some helper functions. **Feel free to skip this section.**"
      ]
    },
    {
      "cell_type": "code",
      "metadata": {
        "colab": {
          "base_uri": "https://localhost:8080/"
        },
        "id": "bc14Z5j2t2wV",
        "outputId": "828bc4da-c28f-402e-ca59-9555eb09bc90"
      },
      "source": [
        "import numpy as np\n",
        "import networkx as nx\n",
        "\n",
        "from IPython.display import HTML\n",
        "import matplotlib.animation as animation\n",
        "import matplotlib.pyplot as plt\n",
        "\n",
        "import time\n",
        "\n",
        "import torch\n",
        "import torch.nn as nn\n",
        "import torch.nn.functional as F\n",
        "\n",
        "if not torch.cuda.is_available():\n",
        "  !pip install dgl\n",
        "else:\n",
        "  !pip install dgl-cu110\n",
        "\n",
        "import dgl\n"
      ],
      "execution_count": 1,
      "outputs": [
        {
          "output_type": "stream",
          "text": [
            "Collecting dgl-cu110\n",
            "\u001b[?25l  Downloading https://files.pythonhosted.org/packages/76/e5/8536dc2f7048a91c63c913ece8c7b2e7f3e438e741aa4c2d847395486617/dgl_cu110-0.6.1-cp37-cp37m-manylinux1_x86_64.whl (39.9MB)\n",
            "\u001b[K     |████████████████████████████████| 39.9MB 68kB/s \n",
            "\u001b[?25hRequirement already satisfied: numpy>=1.14.0 in /usr/local/lib/python3.7/dist-packages (from dgl-cu110) (1.19.5)\n",
            "Requirement already satisfied: networkx>=2.1 in /usr/local/lib/python3.7/dist-packages (from dgl-cu110) (2.5.1)\n",
            "Requirement already satisfied: requests>=2.19.0 in /usr/local/lib/python3.7/dist-packages (from dgl-cu110) (2.23.0)\n",
            "Requirement already satisfied: scipy>=1.1.0 in /usr/local/lib/python3.7/dist-packages (from dgl-cu110) (1.4.1)\n",
            "Requirement already satisfied: decorator<5,>=4.3 in /usr/local/lib/python3.7/dist-packages (from networkx>=2.1->dgl-cu110) (4.4.2)\n",
            "Requirement already satisfied: certifi>=2017.4.17 in /usr/local/lib/python3.7/dist-packages (from requests>=2.19.0->dgl-cu110) (2021.5.30)\n",
            "Requirement already satisfied: idna<3,>=2.5 in /usr/local/lib/python3.7/dist-packages (from requests>=2.19.0->dgl-cu110) (2.10)\n",
            "Requirement already satisfied: chardet<4,>=3.0.2 in /usr/local/lib/python3.7/dist-packages (from requests>=2.19.0->dgl-cu110) (3.0.4)\n",
            "Requirement already satisfied: urllib3!=1.25.0,!=1.25.1,<1.26,>=1.21.1 in /usr/local/lib/python3.7/dist-packages (from requests>=2.19.0->dgl-cu110) (1.24.3)\n",
            "Installing collected packages: dgl-cu110\n",
            "Successfully installed dgl-cu110-0.6.1\n",
            "Setting the default backend to \"pytorch\". You can change it in the ~/.dgl/config.json file or export the DGLBACKEND environment variable.  Valid options are: pytorch, mxnet, tensorflow (all lowercase)\n"
          ],
          "name": "stdout"
        },
        {
          "output_type": "stream",
          "text": [
            "DGL backend not selected or invalid.  Assuming PyTorch for now.\n",
            "Using backend: pytorch\n"
          ],
          "name": "stderr"
        }
      ]
    },
    {
      "cell_type": "markdown",
      "metadata": {
        "id": "Bn2ZkwoAt2wX"
      },
      "source": [
        "## Datasets"
      ]
    },
    {
      "cell_type": "markdown",
      "metadata": {
        "id": "Rogq5WIOt2wX"
      },
      "source": [
        "In this example we use the Cora dataset (see Figure 19) as provided by the deep learning library DGL.\n",
        "\n",
        "The Cora dataset is oft considered ‘the MNIST of graph-based learning’ and consists of 2708 scientific publications (vertices), each classified into one of seven subfields in AI (or classes). Each vertex has a 1433 element binary feature vector, which indicates if each of the 1433 designated words appeared in the publication."
      ]
    },
    {
      "cell_type": "code",
      "metadata": {
        "colab": {
          "base_uri": "https://localhost:8080/"
        },
        "id": "Oz1xxUomt2wY",
        "outputId": "709a51a8-6401-4b0c-9fef-2d19fe6dd38e"
      },
      "source": [
        "# To demonstrate let's use the Cora dataset\n",
        "# DGL provides an api to access this and other datasets.\n",
        "import dgl.data \n",
        "data = dgl.data.CoraGraphDataset()\n",
        "print('Number of categories:', data.num_classes)"
      ],
      "execution_count": 2,
      "outputs": [
        {
          "output_type": "stream",
          "text": [
            "Downloading /root/.dgl/cora_v2.zip from https://data.dgl.ai/dataset/cora_v2.zip...\n",
            "Extracting file to /root/.dgl/cora_v2\n",
            "Finished data loading and preprocessing.\n",
            "  NumNodes: 2708\n",
            "  NumEdges: 10556\n",
            "  NumFeats: 1433\n",
            "  NumClasses: 7\n",
            "  NumTrainingSamples: 140\n",
            "  NumValidationSamples: 500\n",
            "  NumTestSamples: 1000\n",
            "Done saving data into cached files.\n",
            "Number of categories: 7\n"
          ],
          "name": "stdout"
        }
      ]
    },
    {
      "cell_type": "code",
      "metadata": {
        "colab": {
          "base_uri": "https://localhost:8080/",
          "height": 316
        },
        "id": "Gh6Hy7Yzt2wZ",
        "outputId": "8dee675e-2231-4bb8-c6e2-608b242e4260"
      },
      "source": [
        "# DGL datasets come with a pre-initialised graph\n",
        "g = data[0]\n",
        "features = g.ndata['feat']\n",
        "# that will download and cache the data for use later\n",
        "# let's investigate\n",
        "n_features = int(features.shape[1])\n",
        "n_nodes = int(features.shape[0])\n",
        "n_edges = g.number_of_edges()\n",
        "\n",
        "print(f'There are {n_nodes} nodes and {n_edges} edges')\n",
        "print(f'Each node has {n_features} features')\n",
        "\n",
        "# # let's look at the labels, the classification target\n",
        "labels = g.ndata['label']\n",
        "n_classes = labels.max() + 1\n",
        "print(f\"There are {n_classes} classes\")\n",
        "fig, ax = plt.subplots()\n",
        "n, bins, patches = ax.hist(labels.flatten()[:20000], bins=n_classes, density=True)\n",
        "plt.show()\n",
        "# plt.hist(labels.flatten()[:20000], bins=n_classes)"
      ],
      "execution_count": 3,
      "outputs": [
        {
          "output_type": "stream",
          "text": [
            "There are 2708 nodes and 10556 edges\n",
            "Each node has 1433 features\n",
            "There are 7 classes\n"
          ],
          "name": "stdout"
        },
        {
          "output_type": "display_data",
          "data": {
            "image/png": "[encoded data removed]",
            "text/plain": [
              "<Figure size 432x288 with 1 Axes>"
            ]
          },
          "metadata": {
            "tags": [],
            "needs_background": "light"
          }
        }
      ]
    },
    {
      "cell_type": "code",
      "metadata": {
        "colab": {
          "base_uri": "https://localhost:8080/"
        },
        "id": "MBky3N1Xt2wZ",
        "outputId": "cd661f44-721c-443a-f264-9ca2f37baeaa"
      },
      "source": [
        "# DGL datasets come preprepared with train/test/val splits, in the form of index masks\n",
        "train_mask = g.ndata['train_mask']\n",
        "val_mask = g.ndata['val_mask']\n",
        "test_mask = g.ndata['test_mask']\n",
        "print(int(train_mask.sum()), 'train samples')\n",
        "print(int(val_mask.sum()), 'validation samples')\n",
        "print(int(test_mask.sum()), 'test samples')"
      ],
      "execution_count": 4,
      "outputs": [
        {
          "output_type": "stream",
          "text": [
            "140 train samples\n",
            "500 validation samples\n",
            "1000 test samples\n"
          ],
          "name": "stdout"
        }
      ]
    },
    {
      "cell_type": "code",
      "metadata": {
        "id": "Qpb5ggQht2wa"
      },
      "source": [
        "# Let's convert the data from numpy arrays to the required pytorch tensors. \n",
        "features = torch.FloatTensor(features)\n",
        "labels = torch.LongTensor(labels)\n",
        "train_mask = torch.BoolTensor(train_mask)\n",
        "val_mask = torch.BoolTensor(val_mask)\n",
        "test_mask = torch.BoolTensor(test_mask)"
      ],
      "execution_count": 5,
      "outputs": []
    },
    {
      "cell_type": "code",
      "metadata": {
        "colab": {
          "base_uri": "https://localhost:8080/"
        },
        "id": "RwHJLB6Ht2wa",
        "outputId": "c47093ce-2cbc-4bd1-8f68-737b4a98fd69"
      },
      "source": [
        "# If we are using the gpu, we can send the arrays to gpu memory.\n",
        "print(torch.cuda.is_available())\n",
        "gpu = torch.device('cpu')\n",
        "if torch.cuda.is_available():\n",
        "    gpu = torch.device('cuda:0')\n",
        "    torch.cuda.set_device(gpu)\n",
        "    features = features.cuda()\n",
        "    labels = labels.cuda()\n",
        "    train_mask = train_mask.cuda()\n",
        "    val_mask = val_mask.cuda()\n",
        "    test_mask = test_mask.cuda()   "
      ],
      "execution_count": 6,
      "outputs": [
        {
          "output_type": "stream",
          "text": [
            "True\n"
          ],
          "name": "stdout"
        }
      ]
    },
    {
      "cell_type": "markdown",
      "metadata": {
        "id": "52L1anFLt2wb"
      },
      "source": [
        "A subgraph of the Cora dataset. The full Cora graph has N = 2708 and M = 5429. Note the many vertices with few incident edges (low degree) as compared to the few vertices with many incident edges (high degree)."
      ]
    },
    {
      "cell_type": "code",
      "metadata": {
        "colab": {
          "base_uri": "https://localhost:8080/",
          "height": 353
        },
        "id": "3sXHn9mDt2wb",
        "scrolled": true,
        "outputId": "81f11d73-0c9b-4eb5-9a43-2c1cc2b20ba0"
      },
      "source": [
        "# DGL datasets come with a pre-initialised networkx graph\n",
        "gx = data.graph\n",
        "\n",
        "# first remove any existing self-loops, because graphSAGE employs\n",
        "# its own way of dealing with self-loops in the forward pass\n",
        "gx.remove_edges_from(nx.selfloop_edges(gx))\n",
        "# and lets recalc the num of edges for later\n",
        "n_edges = gx.number_of_edges()\n",
        "# for simplicity lets convert the graph to an undirected one\n",
        "gx = gx.to_undirected()\n",
        "\n",
        "# with a networkx graph we can do some plotting\n",
        "# lets just plot a fraction of the nodes\n",
        "gx_copy = gx.copy()\n",
        "gx_copy.remove_nodes_from(range(500, n_nodes))\n",
        "nx.draw(gx_copy, node_size=10, alpha=0.6, arrows=False, edge_color='purple')"
      ],
      "execution_count": 7,
      "outputs": [
        {
          "output_type": "stream",
          "text": [
            "/usr/local/lib/python3.7/dist-packages/dgl/data/utils.py:285: UserWarning: Property dataset.graph will be deprecated, please use dataset[0] instead.\n",
            "  warnings.warn('Property {} will be deprecated, please use {} instead.'.format(old, new))\n"
          ],
          "name": "stderr"
        },
        {
          "output_type": "display_data",
          "data": {
            "image/png": "[encoded data removed]",
            "text/plain": [
              "<Figure size 432x288 with 1 Axes>"
            ]
          },
          "metadata": {
            "tags": []
          }
        }
      ]
    },
    {
      "cell_type": "code",
      "metadata": {
        "id": "myCYVbPdt2wc"
      },
      "source": [
        "# We can build a trainable GNN out of this networkx graph with dgl/\n",
        "# The DGLGraph can take a networkx graph as input\n",
        "g = dgl.from_networkx(gx)\n",
        "if torch.cuda.is_available():\n",
        "  g = g.to(gpu)"
      ],
      "execution_count": 8,
      "outputs": []
    },
    {
      "cell_type": "markdown",
      "metadata": {
        "id": "0dpb15Bdt2wc"
      },
      "source": [
        "## Architecture and initial experiments"
      ]
    },
    {
      "cell_type": "markdown",
      "metadata": {
        "id": "MBgkxV_5t2wd"
      },
      "source": [
        "We'll start by setting up our own layers, models, and training routines."
      ]
    },
    {
      "cell_type": "code",
      "metadata": {
        "id": "r3ZcSHdQt2wd"
      },
      "source": [
        "# Like all layers and neural nets in pytorch we will inherit the Module class\n",
        "class MeanAggSageLayer(nn.Module):\n",
        "    def __init__(self, n_features_in, n_features_out):\n",
        "        super(MeanAggSageLayer, self).__init__()\n",
        "        # number of features coming in to this layer. If this is the first layer, \n",
        "        # this will be the amount of features per node\n",
        "        self._in = n_features_in\n",
        "        # the number of output features from this layer,\n",
        "        # In the final layer of the GraphSAGE net this will equal n_classes \n",
        "        self._out = n_features_out\n",
        "        # create a linear transformation between the input channels and the output.\n",
        "        # These nn.Linear objects are shortcuts to hold the weights and biases\n",
        "        # that are learnt through backpropogation, and applied\n",
        "        # to incoming features. We will have one for self nodes \n",
        "        self.fc_self = nn.Linear(self._in, self._out)\n",
        "        # and one for neighbour nodes \n",
        "        self.fc_neigh = nn.Linear(self._in, self._out)\n",
        "        # we will initialise the weights with xavier_unform random\n",
        "        # sampling, another name for Glorot uniform used in the original\n",
        "        # graphsage paper\n",
        "        gain = nn.init.calculate_gain('relu')   # sqrt(2)\n",
        "        # set the gain appropriately for our activation function \n",
        "        nn.init.xavier_uniform_(self.fc_self.weight, gain=gain)\n",
        "        nn.init.xavier_uniform_(self.fc_neigh.weight, gain=gain)\n",
        "    \n",
        "    def forward(self, graph, features):\n",
        "        \"\"\"\n",
        "        The following code is DGL's way of using the graph class\n",
        "        to facilitate message passing. The equivalent code in pure pytorch\n",
        "        operating instead on the adjacency matrix adj and the feature matrix x would be:\n",
        "            \n",
        "            def forward(self, x, adj):\n",
        "                return adj.matmul(x, reduce='mean') @ self_weights + x @ neigh_weights + bias\n",
        "        \n",
        "        \"\"\"\n",
        "        # set the incoming features matrix as the input to this layer 'h'\n",
        "        graph.srcdata['h'] = features\n",
        "        # create 2 user defined functions, the first to collect features \n",
        "        # from the src nodes 'h', send along edges 'm', and aggregate them at the \n",
        "        # destination nodes (the neighbours)\n",
        "        features_from_src_nodes = dgl.function.copy_src('h', 'm')\n",
        "        aggregation_at_dst_nodes = dgl.function.mean('m', 'neigh')\n",
        "        # graph.update_all is a helper function to send the first function\n",
        "        # along the edges and recieve the second function at the\n",
        "        # destination nodes\n",
        "        graph.update_all(features_from_src_nodes, aggregation_at_dst_nodes)\n",
        "        # now we can get our aggregated neighbourhood features\n",
        "        h_neigh = graph.dstdata['neigh']\n",
        "        # and combine them with the src features (self loops)\n",
        "        # fc_self(features) is equivalent to features @ weights + biases\n",
        "        output = self.fc_self(features) + self.fc_neigh(h_neigh)\n",
        "        # lastly we add a nonlinearity to the output enabling backpropogation\n",
        "        output = F.relu(output)\n",
        "        return output\n",
        "    "
      ],
      "execution_count": 9,
      "outputs": []
    },
    {
      "cell_type": "markdown",
      "metadata": {
        "id": "qXaVbcWDt2wg"
      },
      "source": [
        "The only method we need will be the 'self.forward' method (forward pass). The backpropogation will be handled by the library."
      ]
    },
    {
      "cell_type": "markdown",
      "metadata": {
        "id": "B0X6r4mnt2wg"
      },
      "source": [
        "Now lets build a graphSAGE GNN out of these layers that takes in a DGLGraph we made previously."
      ]
    },
    {
      "cell_type": "code",
      "metadata": {
        "id": "0UHdPyYIt2wh"
      },
      "source": [
        "class SimpleGraphSAGE(nn.Module):\n",
        "    def __init__(\n",
        "            self, \n",
        "            g, \n",
        "            n_features, \n",
        "            n_hidden, \n",
        "            n_classes, \n",
        "            n_layers\n",
        "    ):\n",
        "        super(SimpleGraphSAGE, self).__init__()\n",
        "        # A ModuleList will hold all of our layers\n",
        "        self.conv_layers = nn.ModuleList()\n",
        "        self.g = g\n",
        "\n",
        "        # input layer, the input size of which will be \n",
        "        # the number of features\n",
        "        self.conv_layers.append(MeanAggSageLayer(n_features, n_hidden))\n",
        "        # create the hidden layers: (n_layers - 1) allowing for the output layer\n",
        "        for i in range(n_layers - 1):\n",
        "            self.conv_layers.append(MeanAggSageLayer(n_hidden, n_hidden))\n",
        "        # output layer, the output size of which will be the number of classes\n",
        "        self.conv_layers.append(MeanAggSageLayer(n_hidden, n_classes))\n",
        "\n",
        "    def forward(self, features):\n",
        "        # h(0) will be equal to the feature matrix\n",
        "        h = features\n",
        "        for conv in self.conv_layers:\n",
        "            # pass h through one layer and back into the next\n",
        "            h = conv(self.g, h)\n",
        "        # now we have h(k)\n",
        "        return h"
      ],
      "execution_count": 10,
      "outputs": []
    },
    {
      "cell_type": "markdown",
      "metadata": {
        "id": "wDGdK2-jt2wh"
      },
      "source": [
        "Before we create one of these models we need to decide on some params:\n"
      ]
    },
    {
      "cell_type": "code",
      "metadata": {
        "id": "DfBImZP1t2wh"
      },
      "source": [
        "n_hidden = 16\n",
        "n_layers = 2\n",
        "learning_rate = 0.01\n",
        "weight_decay = 0.0005\n",
        "n_epochs = 120"
      ],
      "execution_count": 11,
      "outputs": []
    },
    {
      "cell_type": "markdown",
      "metadata": {
        "id": "qOsLIP2at2wh"
      },
      "source": [
        "Now we can create a GraphSAGE model using our graph (g)"
      ]
    },
    {
      "cell_type": "code",
      "metadata": {
        "id": "5rdhSHw9t2wi"
      },
      "source": [
        "model = SimpleGraphSAGE(g, n_features, n_hidden, n_classes, n_layers)\n",
        "# we can send this to gpu memory as well\n",
        "if torch.cuda.is_available():\n",
        "    model.cuda()"
      ],
      "execution_count": 12,
      "outputs": []
    },
    {
      "cell_type": "code",
      "metadata": {
        "id": "tF6xpKktt2wi"
      },
      "source": [
        "# use cross entropy loss function\n",
        "loss_fcn = torch.nn.CrossEntropyLoss()\n",
        "\n",
        "# use Adam Optimizer\n",
        "optimizer = torch.optim.Adam(model.parameters(), lr=learning_rate,\n",
        "                             weight_decay=weight_decay)"
      ],
      "execution_count": 13,
      "outputs": []
    },
    {
      "cell_type": "code",
      "metadata": {
        "id": "j13azUCOt2wj"
      },
      "source": [
        "# we also need a scoring function, lets create a simple accuracy calculator:\n",
        "def get_accuracy(pred, true):\n",
        "    _, indices = torch.max(pred, dim=1)\n",
        "    correct = torch.sum(indices == true)\n",
        "    return correct.item() * 1.0 / len(true)"
      ],
      "execution_count": 14,
      "outputs": []
    },
    {
      "cell_type": "markdown",
      "metadata": {
        "id": "WSr3wugRt2wj"
      },
      "source": [
        "And we can decide on a simple training routine too."
      ]
    },
    {
      "cell_type": "code",
      "metadata": {
        "id": "0Uzrtvv-t2wk"
      },
      "source": [
        "# now our training pipeline is able to be built\n",
        "def train(model, optimizer, n_epochs):\n",
        "    # we will keep track how long each epoch takes so we can calculate things like\n",
        "    # Traversed Edges Per Second (TEPS)\n",
        "    dur = []\n",
        "    all_train_logits = []\n",
        "\n",
        "    for epoch in range(n_epochs):\n",
        "\n",
        "        # This doesnt train the mdoel, instead it tells all the child modules\n",
        "        # that the model is in training mode and not evaluating mode\n",
        "        # (for examplee, when evaluating, you dont want to apply dropout to the input tensor)\n",
        "        model.train()\n",
        "        t0 = time.time()\n",
        "\n",
        "        # the forward pass - sending the features to the model.forward method\n",
        "        output = model(features)\n",
        "        # calculate our current loss by comparing only the training nodes'\n",
        "        # prediction and truth\n",
        "        output_train = output[train_mask]\n",
        "        loss = loss_fcn(output_train, labels[train_mask])\n",
        "\n",
        "        # the backwards pass! update the weights in our SAGELayers - but first:\n",
        "        # reset the gradient back to 0 before doing backpropogation\n",
        "        # (pytorch by default accumulates the gradients after each backward pass)\n",
        "        optimizer.zero_grad()\n",
        "        # backpropogation\n",
        "        loss.backward()\n",
        "        # step the adam optimizer forward\n",
        "        optimizer.step()\n",
        "\n",
        "        dur.append(time.time() - t0)\n",
        "\n",
        "        # set the model into evaluation model\n",
        "        model.eval()\n",
        "        # temporatily turn off the gradient calculation as\n",
        "        # just want to simply inference\n",
        "        with torch.no_grad():\n",
        "            output_val = output[val_mask]\n",
        "            labels_val = labels[val_mask]\n",
        "            acc = get_accuracy(output_val, labels_val)\n",
        "\n",
        "        # record the output logits for plotting later\n",
        "        all_train_logits.append(output_train)\n",
        "\n",
        "        print(\"Epoch {:05d} | Time(s) {:.4f} | Loss {:.4f} | Accuracy {:.4f} | \"\n",
        "              \"TEPS {:.2f}\".format(epoch, np.mean(dur), loss.item(), acc, \n",
        "                                   n_edges / np.mean(dur)))\n",
        "\n",
        "    print('training complete')\n",
        "    return model, output, all_train_logits\n"
      ],
      "execution_count": 15,
      "outputs": []
    },
    {
      "cell_type": "code",
      "metadata": {
        "colab": {
          "base_uri": "https://localhost:8080/"
        },
        "id": "f9qTstv_t2wk",
        "outputId": "4d7dfd81-5f85-4074-a4f4-7855b1f2df70"
      },
      "source": [
        "model, last_output, _ = train(model, optimizer, n_epochs)"
      ],
      "execution_count": 16,
      "outputs": [
        {
          "output_type": "stream",
          "text": [
            "Epoch 00000 | Time(s) 1.6646 | Loss 2.0308 | Accuracy 0.1220 | TEPS 6341.54\n",
            "Epoch 00001 | Time(s) 0.8352 | Loss 1.9779 | Accuracy 0.1480 | TEPS 12638.96\n",
            "Epoch 00002 | Time(s) 0.5585 | Loss 1.9483 | Accuracy 0.2620 | TEPS 18899.54\n",
            "Epoch 00003 | Time(s) 0.4202 | Loss 1.9185 | Accuracy 0.2020 | TEPS 25121.57\n",
            "Epoch 00004 | Time(s) 0.3372 | Loss 1.8914 | Accuracy 0.2600 | TEPS 31305.99\n",
            "Epoch 00005 | Time(s) 0.2818 | Loss 1.8588 | Accuracy 0.3700 | TEPS 37452.66\n",
            "Epoch 00006 | Time(s) 0.2423 | Loss 1.8245 | Accuracy 0.4020 | TEPS 43562.81\n",
            "Epoch 00007 | Time(s) 0.2128 | Loss 1.7815 | Accuracy 0.4120 | TEPS 49595.58\n",
            "Epoch 00008 | Time(s) 0.1898 | Loss 1.7272 | Accuracy 0.4300 | TEPS 55607.50\n",
            "Epoch 00009 | Time(s) 0.1714 | Loss 1.6670 | Accuracy 0.4180 | TEPS 61596.90\n",
            "Epoch 00010 | Time(s) 0.1563 | Loss 1.6031 | Accuracy 0.4240 | TEPS 67546.34\n",
            "Epoch 00011 | Time(s) 0.1437 | Loss 1.5383 | Accuracy 0.4280 | TEPS 73466.26\n",
            "Epoch 00012 | Time(s) 0.1330 | Loss 1.4640 | Accuracy 0.4920 | TEPS 79351.13\n",
            "Epoch 00013 | Time(s) 0.1239 | Loss 1.3895 | Accuracy 0.5000 | TEPS 85201.02\n",
            "Epoch 00014 | Time(s) 0.1160 | Loss 1.3132 | Accuracy 0.4980 | TEPS 91014.80\n",
            "Epoch 00015 | Time(s) 0.1091 | Loss 1.2368 | Accuracy 0.4880 | TEPS 96797.51\n",
            "Epoch 00016 | Time(s) 0.1030 | Loss 1.1608 | Accuracy 0.4900 | TEPS 102527.88\n",
            "Epoch 00017 | Time(s) 0.0975 | Loss 1.0865 | Accuracy 0.5100 | TEPS 108240.68\n",
            "Epoch 00018 | Time(s) 0.0927 | Loss 1.0160 | Accuracy 0.5200 | TEPS 113922.23\n",
            "Epoch 00019 | Time(s) 0.0883 | Loss 0.9489 | Accuracy 0.5300 | TEPS 119572.00\n",
            "Epoch 00020 | Time(s) 0.0843 | Loss 0.8856 | Accuracy 0.5420 | TEPS 125176.93\n",
            "Epoch 00021 | Time(s) 0.0807 | Loss 0.8268 | Accuracy 0.5520 | TEPS 130733.72\n",
            "Epoch 00022 | Time(s) 0.0775 | Loss 0.7707 | Accuracy 0.5580 | TEPS 136261.36\n",
            "Epoch 00023 | Time(s) 0.0745 | Loss 0.7181 | Accuracy 0.5680 | TEPS 141655.17\n",
            "Epoch 00024 | Time(s) 0.0718 | Loss 0.6684 | Accuracy 0.5880 | TEPS 147036.15\n",
            "Epoch 00025 | Time(s) 0.0692 | Loss 0.6216 | Accuracy 0.6040 | TEPS 152471.76\n",
            "Epoch 00026 | Time(s) 0.0669 | Loss 0.5783 | Accuracy 0.6180 | TEPS 157874.62\n",
            "Epoch 00027 | Time(s) 0.0647 | Loss 0.5380 | Accuracy 0.6180 | TEPS 163244.28\n",
            "Epoch 00028 | Time(s) 0.0626 | Loss 0.5012 | Accuracy 0.6340 | TEPS 168584.63\n",
            "Epoch 00029 | Time(s) 0.0607 | Loss 0.4683 | Accuracy 0.6400 | TEPS 173900.41\n",
            "Epoch 00030 | Time(s) 0.0589 | Loss 0.4392 | Accuracy 0.6460 | TEPS 179175.61\n",
            "Epoch 00031 | Time(s) 0.0572 | Loss 0.4140 | Accuracy 0.6520 | TEPS 184407.82\n",
            "Epoch 00032 | Time(s) 0.0557 | Loss 0.3925 | Accuracy 0.6480 | TEPS 189616.01\n",
            "Epoch 00033 | Time(s) 0.0542 | Loss 0.3748 | Accuracy 0.6380 | TEPS 194808.57\n",
            "Epoch 00034 | Time(s) 0.0528 | Loss 0.3606 | Accuracy 0.6340 | TEPS 199956.28\n",
            "Epoch 00035 | Time(s) 0.0516 | Loss 0.3493 | Accuracy 0.6320 | TEPS 204649.29\n",
            "Epoch 00036 | Time(s) 0.0503 | Loss 0.3402 | Accuracy 0.6360 | TEPS 209691.42\n",
            "Epoch 00037 | Time(s) 0.0492 | Loss 0.3325 | Accuracy 0.6360 | TEPS 214748.48\n",
            "Epoch 00038 | Time(s) 0.0480 | Loss 0.3263 | Accuracy 0.6400 | TEPS 219758.59\n",
            "Epoch 00039 | Time(s) 0.0470 | Loss 0.3210 | Accuracy 0.6440 | TEPS 224742.74\n",
            "Epoch 00040 | Time(s) 0.0460 | Loss 0.3165 | Accuracy 0.6500 | TEPS 229700.84\n",
            "Epoch 00041 | Time(s) 0.0450 | Loss 0.3128 | Accuracy 0.6560 | TEPS 234619.73\n",
            "Epoch 00042 | Time(s) 0.0441 | Loss 0.3094 | Accuracy 0.6600 | TEPS 239495.12\n",
            "Epoch 00043 | Time(s) 0.0432 | Loss 0.3064 | Accuracy 0.6560 | TEPS 244373.62\n",
            "Epoch 00044 | Time(s) 0.0424 | Loss 0.3040 | Accuracy 0.6540 | TEPS 249212.11\n",
            "Epoch 00045 | Time(s) 0.0416 | Loss 0.3022 | Accuracy 0.6480 | TEPS 254039.14\n",
            "Epoch 00046 | Time(s) 0.0408 | Loss 0.3012 | Accuracy 0.6480 | TEPS 258847.67\n",
            "Epoch 00047 | Time(s) 0.0400 | Loss 0.2996 | Accuracy 0.6480 | TEPS 263628.08\n",
            "Epoch 00048 | Time(s) 0.0393 | Loss 0.2991 | Accuracy 0.6520 | TEPS 268358.50\n",
            "Epoch 00049 | Time(s) 0.0387 | Loss 0.2981 | Accuracy 0.6480 | TEPS 273074.68\n",
            "Epoch 00050 | Time(s) 0.0381 | Loss 0.2982 | Accuracy 0.6540 | TEPS 277391.68\n",
            "Epoch 00051 | Time(s) 0.0375 | Loss 0.2971 | Accuracy 0.6520 | TEPS 281610.12\n",
            "Epoch 00052 | Time(s) 0.0369 | Loss 0.2974 | Accuracy 0.6540 | TEPS 286244.57\n",
            "Epoch 00053 | Time(s) 0.0364 | Loss 0.2969 | Accuracy 0.6520 | TEPS 289872.44\n",
            "Epoch 00054 | Time(s) 0.0359 | Loss 0.2971 | Accuracy 0.6520 | TEPS 294444.53\n",
            "Epoch 00055 | Time(s) 0.0353 | Loss 0.2972 | Accuracy 0.6540 | TEPS 299002.65\n",
            "Epoch 00056 | Time(s) 0.0348 | Loss 0.2975 | Accuracy 0.6500 | TEPS 303503.31\n",
            "Epoch 00057 | Time(s) 0.0343 | Loss 0.2973 | Accuracy 0.6500 | TEPS 307969.30\n",
            "Epoch 00058 | Time(s) 0.0338 | Loss 0.2974 | Accuracy 0.6500 | TEPS 312380.37\n",
            "Epoch 00059 | Time(s) 0.0333 | Loss 0.2975 | Accuracy 0.6500 | TEPS 316760.66\n",
            "Epoch 00060 | Time(s) 0.0329 | Loss 0.2977 | Accuracy 0.6500 | TEPS 321110.72\n",
            "Epoch 00061 | Time(s) 0.0325 | Loss 0.2983 | Accuracy 0.6520 | TEPS 325042.63\n",
            "Epoch 00062 | Time(s) 0.0320 | Loss 0.2984 | Accuracy 0.6520 | TEPS 329380.60\n",
            "Epoch 00063 | Time(s) 0.0316 | Loss 0.2987 | Accuracy 0.6520 | TEPS 333733.15\n",
            "Epoch 00064 | Time(s) 0.0312 | Loss 0.2993 | Accuracy 0.6520 | TEPS 338071.24\n",
            "Epoch 00065 | Time(s) 0.0308 | Loss 0.3016 | Accuracy 0.6520 | TEPS 342383.26\n",
            "Epoch 00066 | Time(s) 0.0305 | Loss 0.3049 | Accuracy 0.6600 | TEPS 346648.25\n",
            "Epoch 00067 | Time(s) 0.0301 | Loss 0.2998 | Accuracy 0.6540 | TEPS 350378.94\n",
            "Epoch 00068 | Time(s) 0.0298 | Loss 0.3030 | Accuracy 0.6480 | TEPS 354377.30\n",
            "Epoch 00069 | Time(s) 0.0294 | Loss 0.3010 | Accuracy 0.6520 | TEPS 358585.08\n",
            "Epoch 00070 | Time(s) 0.0291 | Loss 0.3023 | Accuracy 0.6560 | TEPS 362759.38\n",
            "Epoch 00071 | Time(s) 0.0288 | Loss 0.3040 | Accuracy 0.6560 | TEPS 366957.07\n",
            "Epoch 00072 | Time(s) 0.0284 | Loss 0.3023 | Accuracy 0.6420 | TEPS 371143.35\n",
            "Epoch 00073 | Time(s) 0.0281 | Loss 0.3023 | Accuracy 0.6420 | TEPS 375261.65\n",
            "Epoch 00074 | Time(s) 0.0278 | Loss 0.3015 | Accuracy 0.6540 | TEPS 379391.14\n",
            "Epoch 00075 | Time(s) 0.0275 | Loss 0.3012 | Accuracy 0.6520 | TEPS 383485.87\n",
            "Epoch 00076 | Time(s) 0.0272 | Loss 0.3004 | Accuracy 0.6540 | TEPS 387525.70\n",
            "Epoch 00077 | Time(s) 0.0270 | Loss 0.3010 | Accuracy 0.6560 | TEPS 391581.47\n",
            "Epoch 00078 | Time(s) 0.0267 | Loss 0.2986 | Accuracy 0.6500 | TEPS 395638.86\n",
            "Epoch 00079 | Time(s) 0.0264 | Loss 0.2991 | Accuracy 0.6480 | TEPS 399685.70\n",
            "Epoch 00080 | Time(s) 0.0262 | Loss 0.2985 | Accuracy 0.6560 | TEPS 403563.11\n",
            "Epoch 00081 | Time(s) 0.0259 | Loss 0.2976 | Accuracy 0.6520 | TEPS 407210.13\n",
            "Epoch 00082 | Time(s) 0.0257 | Loss 0.2967 | Accuracy 0.6560 | TEPS 411056.12\n",
            "Epoch 00083 | Time(s) 0.0254 | Loss 0.2969 | Accuracy 0.6560 | TEPS 415012.67\n",
            "Epoch 00084 | Time(s) 0.0252 | Loss 0.2960 | Accuracy 0.6560 | TEPS 418939.54\n",
            "Epoch 00085 | Time(s) 0.0250 | Loss 0.2957 | Accuracy 0.6580 | TEPS 422860.83\n",
            "Epoch 00086 | Time(s) 0.0247 | Loss 0.2952 | Accuracy 0.6540 | TEPS 426770.72\n",
            "Epoch 00087 | Time(s) 0.0245 | Loss 0.2956 | Accuracy 0.6540 | TEPS 430653.91\n",
            "Epoch 00088 | Time(s) 0.0243 | Loss 0.2950 | Accuracy 0.6520 | TEPS 434515.20\n",
            "Epoch 00089 | Time(s) 0.0241 | Loss 0.2946 | Accuracy 0.6520 | TEPS 438377.81\n",
            "Epoch 00090 | Time(s) 0.0239 | Loss 0.2947 | Accuracy 0.6560 | TEPS 442213.37\n",
            "Epoch 00091 | Time(s) 0.0237 | Loss 0.2949 | Accuracy 0.6560 | TEPS 446016.59\n",
            "Epoch 00092 | Time(s) 0.0235 | Loss 0.2946 | Accuracy 0.6580 | TEPS 449788.52\n",
            "Epoch 00093 | Time(s) 0.0233 | Loss 0.2950 | Accuracy 0.6560 | TEPS 453574.56\n",
            "Epoch 00094 | Time(s) 0.0231 | Loss 0.2953 | Accuracy 0.6580 | TEPS 457362.05\n",
            "Epoch 00095 | Time(s) 0.0229 | Loss 0.2981 | Accuracy 0.6620 | TEPS 461100.81\n",
            "Epoch 00096 | Time(s) 0.0227 | Loss 0.2950 | Accuracy 0.6580 | TEPS 464843.50\n",
            "Epoch 00097 | Time(s) 0.0225 | Loss 0.2970 | Accuracy 0.6520 | TEPS 468570.34\n",
            "Epoch 00098 | Time(s) 0.0224 | Loss 0.2946 | Accuracy 0.6540 | TEPS 472286.32\n",
            "Epoch 00099 | Time(s) 0.0222 | Loss 0.2958 | Accuracy 0.6600 | TEPS 475880.38\n",
            "Epoch 00100 | Time(s) 0.0220 | Loss 0.2961 | Accuracy 0.6600 | TEPS 479542.57\n",
            "Epoch 00101 | Time(s) 0.0218 | Loss 0.2955 | Accuracy 0.6560 | TEPS 483205.91\n",
            "Epoch 00102 | Time(s) 0.0217 | Loss 0.2957 | Accuracy 0.6480 | TEPS 486597.56\n",
            "Epoch 00103 | Time(s) 0.0215 | Loss 0.2954 | Accuracy 0.6440 | TEPS 489988.08\n",
            "Epoch 00104 | Time(s) 0.0214 | Loss 0.2953 | Accuracy 0.6500 | TEPS 493305.79\n",
            "Epoch 00105 | Time(s) 0.0213 | Loss 0.2942 | Accuracy 0.6580 | TEPS 496537.18\n",
            "Epoch 00106 | Time(s) 0.0211 | Loss 0.2942 | Accuracy 0.6620 | TEPS 500093.98\n",
            "Epoch 00107 | Time(s) 0.0210 | Loss 0.2942 | Accuracy 0.6620 | TEPS 503662.93\n",
            "Epoch 00108 | Time(s) 0.0208 | Loss 0.2939 | Accuracy 0.6600 | TEPS 507197.53\n",
            "Epoch 00109 | Time(s) 0.0207 | Loss 0.2933 | Accuracy 0.6620 | TEPS 510679.72\n",
            "Epoch 00110 | Time(s) 0.0205 | Loss 0.2927 | Accuracy 0.6620 | TEPS 514173.94\n",
            "Epoch 00111 | Time(s) 0.0204 | Loss 0.2926 | Accuracy 0.6600 | TEPS 517667.58\n",
            "Epoch 00112 | Time(s) 0.0203 | Loss 0.2924 | Accuracy 0.6620 | TEPS 521114.77\n",
            "Epoch 00113 | Time(s) 0.0201 | Loss 0.2924 | Accuracy 0.6620 | TEPS 524574.12\n",
            "Epoch 00114 | Time(s) 0.0200 | Loss 0.2941 | Accuracy 0.6600 | TEPS 528022.34\n",
            "Epoch 00115 | Time(s) 0.0199 | Loss 0.2947 | Accuracy 0.6580 | TEPS 531353.02\n",
            "Epoch 00116 | Time(s) 0.0197 | Loss 0.2927 | Accuracy 0.6600 | TEPS 534693.58\n",
            "Epoch 00117 | Time(s) 0.0196 | Loss 0.2920 | Accuracy 0.6640 | TEPS 538075.23\n",
            "Epoch 00118 | Time(s) 0.0195 | Loss 0.2919 | Accuracy 0.6600 | TEPS 541459.75\n",
            "Epoch 00119 | Time(s) 0.0194 | Loss 0.2919 | Accuracy 0.6580 | TEPS 544830.49\n",
            "training complete\n"
          ],
          "name": "stdout"
        }
      ]
    },
    {
      "cell_type": "code",
      "metadata": {
        "colab": {
          "base_uri": "https://localhost:8080/"
        },
        "id": "DDebhJlnt2wk",
        "outputId": "02ef9b74-4f94-448f-93bb-5b218e5f0019"
      },
      "source": [
        "# now we can evaluate the model on the test set\n",
        "output_test = last_output[test_mask]\n",
        "labels_test = labels[test_mask]\n",
        "acc = get_accuracy(output_test, labels_test)\n",
        "print(\"Test Accuracy {:.4f}\".format(acc))"
      ],
      "execution_count": 17,
      "outputs": [
        {
          "output_type": "stream",
          "text": [
            "Test Accuracy 0.6790\n"
          ],
          "name": "stdout"
        }
      ]
    },
    {
      "cell_type": "markdown",
      "metadata": {
        "id": "N4-SnGxmt2wl"
      },
      "source": [
        "## Further experiments"
      ]
    },
    {
      "cell_type": "markdown",
      "metadata": {
        "id": "46pEiaQ8t2wl"
      },
      "source": [
        "Ok so not too impressive - how can we improve the model?"
      ]
    },
    {
      "cell_type": "markdown",
      "metadata": {
        "id": "bFOh5VNvt2wl"
      },
      "source": [
        "For one, there are other aggregation methods used in the original paper.\n",
        "DGL has implemented a SAGEConv layer that takes our simplified SageLayer further:"
      ]
    },
    {
      "cell_type": "code",
      "metadata": {
        "id": "7H1hH-Ikt2wm"
      },
      "source": [
        "from dgl.nn.pytorch.conv.sageconv import SAGEConv"
      ],
      "execution_count": 18,
      "outputs": []
    },
    {
      "cell_type": "code",
      "metadata": {
        "id": "J_nW2rott2wm"
      },
      "source": [
        "# A new graphSAGE net could be built as follows:\n",
        "class GraphSAGE(nn.Module):\n",
        "    \"\"\"\n",
        "    GraphSAGE pytorch implementation from paper `Inductive Representation Learning on\n",
        "    Large Graphs <https://arxiv.org/pdf/1706.02216.pdf>`__.\n",
        "    \"\"\"\n",
        "    def __init__(\n",
        "            self,\n",
        "            g,\n",
        "            n_features,\n",
        "            n_hidden,\n",
        "            n_classes,\n",
        "            n_layers,\n",
        "            agg,\n",
        "            activation,\n",
        "            dropout,\n",
        "    ):\n",
        "        super(GraphSAGE, self).__init__()\n",
        "        self.layers = nn.ModuleList()\n",
        "        self.g = g\n",
        "\n",
        "        # input layer\n",
        "        self.layers.append(\n",
        "            SAGEConv(n_features, n_hidden, agg, feat_drop=dropout, activation=activation)\n",
        "        )\n",
        "        # hidden layers\n",
        "        for i in range(n_layers - 1):\n",
        "            self.layers.append(\n",
        "                SAGEConv(n_hidden, n_hidden, agg, feat_drop=dropout, activation=activation)\n",
        "            )\n",
        "        # output layer\n",
        "        self.layers.append(\n",
        "            SAGEConv(n_hidden, n_classes, agg, feat_drop=dropout, activation=None)\n",
        "        ) # no activation None for final layer\n",
        "\n",
        "    def forward(self, features):\n",
        "        h = features\n",
        "        for layer in self.layers:\n",
        "            h = layer(self.g, h)\n",
        "        return h"
      ],
      "execution_count": 19,
      "outputs": []
    },
    {
      "cell_type": "markdown",
      "metadata": {
        "id": "itDo74MHt2wm"
      },
      "source": [
        "The 'agg' variable can now be one of ['mean', 'gcn', 'pool', 'lstm'].\n",
        "Additionally, a dropout fraction can be set, activation can be changed from 'relu', and the SAGEConv layer also supports an optional normalization function.\n",
        "\n",
        "We'll start by looking at the **mean** aggregation function:"
      ]
    },
    {
      "cell_type": "code",
      "metadata": {
        "id": "k63Ao5E3t2wm"
      },
      "source": [
        "# lets try our same params as before but using a dropout value of 0.5\n",
        "model = GraphSAGE(g, n_features, n_hidden, n_classes, n_layers, 'mean', F.relu, 0.5)\n",
        "if torch.cuda.is_available():\n",
        "    model.cuda()\n",
        "# initialize the optimzier again as the model params have changed\n",
        "optimizer = torch.optim.Adam(\n",
        "    model.parameters(), lr=learning_rate, weight_decay=weight_decay\n",
        ")"
      ],
      "execution_count": 20,
      "outputs": []
    },
    {
      "cell_type": "code",
      "metadata": {
        "colab": {
          "base_uri": "https://localhost:8080/"
        },
        "id": "cwN6wPbWt2wn",
        "outputId": "9c481b56-8fd8-411d-a7e3-f8ca2b3aa93d"
      },
      "source": [
        "model, last_output, all_train_logits = train(model, optimizer, n_epochs)"
      ],
      "execution_count": 21,
      "outputs": [
        {
          "output_type": "stream",
          "text": [
            "Epoch 00000 | Time(s) 0.0095 | Loss 1.9609 | Accuracy 0.1740 | TEPS 1106296.02\n",
            "Epoch 00001 | Time(s) 0.0075 | Loss 1.9309 | Accuracy 0.2180 | TEPS 1401154.25\n",
            "Epoch 00002 | Time(s) 0.0067 | Loss 1.9287 | Accuracy 0.2360 | TEPS 1577271.87\n",
            "Epoch 00003 | Time(s) 0.0063 | Loss 1.9125 | Accuracy 0.2100 | TEPS 1678389.39\n",
            "Epoch 00004 | Time(s) 0.0061 | Loss 1.8853 | Accuracy 0.1860 | TEPS 1738145.03\n",
            "Epoch 00005 | Time(s) 0.0059 | Loss 1.8630 | Accuracy 0.2400 | TEPS 1790435.11\n",
            "Epoch 00006 | Time(s) 0.0061 | Loss 1.8478 | Accuracy 0.2520 | TEPS 1716791.55\n",
            "Epoch 00007 | Time(s) 0.0060 | Loss 1.8173 | Accuracy 0.2660 | TEPS 1746387.59\n",
            "Epoch 00008 | Time(s) 0.0060 | Loss 1.7918 | Accuracy 0.2660 | TEPS 1773351.63\n",
            "Epoch 00009 | Time(s) 0.0059 | Loss 1.7333 | Accuracy 0.3340 | TEPS 1799902.15\n",
            "Epoch 00010 | Time(s) 0.0058 | Loss 1.6893 | Accuracy 0.2820 | TEPS 1823861.75\n",
            "Epoch 00011 | Time(s) 0.0057 | Loss 1.6241 | Accuracy 0.3180 | TEPS 1845775.28\n",
            "Epoch 00012 | Time(s) 0.0059 | Loss 1.6680 | Accuracy 0.2680 | TEPS 1802149.61\n",
            "Epoch 00013 | Time(s) 0.0058 | Loss 1.5094 | Accuracy 0.3200 | TEPS 1817654.32\n",
            "Epoch 00014 | Time(s) 0.0058 | Loss 1.5323 | Accuracy 0.3300 | TEPS 1835804.37\n",
            "Epoch 00015 | Time(s) 0.0057 | Loss 1.4905 | Accuracy 0.3560 | TEPS 1851419.32\n",
            "Epoch 00016 | Time(s) 0.0056 | Loss 1.4949 | Accuracy 0.3320 | TEPS 1873279.58\n",
            "Epoch 00017 | Time(s) 0.0056 | Loss 1.3726 | Accuracy 0.4000 | TEPS 1886503.02\n",
            "Epoch 00018 | Time(s) 0.0056 | Loss 1.3557 | Accuracy 0.4200 | TEPS 1896790.05\n",
            "Epoch 00019 | Time(s) 0.0056 | Loss 1.2566 | Accuracy 0.3700 | TEPS 1878119.59\n",
            "Epoch 00020 | Time(s) 0.0056 | Loss 1.1826 | Accuracy 0.4120 | TEPS 1889286.66\n",
            "Epoch 00021 | Time(s) 0.0056 | Loss 1.1732 | Accuracy 0.4120 | TEPS 1899065.54\n",
            "Epoch 00022 | Time(s) 0.0055 | Loss 1.1869 | Accuracy 0.4360 | TEPS 1908415.47\n",
            "Epoch 00023 | Time(s) 0.0055 | Loss 1.1886 | Accuracy 0.4600 | TEPS 1917375.36\n",
            "Epoch 00024 | Time(s) 0.0055 | Loss 1.1313 | Accuracy 0.4720 | TEPS 1904432.00\n",
            "Epoch 00025 | Time(s) 0.0056 | Loss 1.0481 | Accuracy 0.5220 | TEPS 1894697.52\n",
            "Epoch 00026 | Time(s) 0.0056 | Loss 0.9786 | Accuracy 0.4680 | TEPS 1873081.71\n",
            "Epoch 00027 | Time(s) 0.0056 | Loss 0.9252 | Accuracy 0.4960 | TEPS 1880975.50\n",
            "Epoch 00028 | Time(s) 0.0056 | Loss 0.9245 | Accuracy 0.4940 | TEPS 1888584.92\n",
            "Epoch 00029 | Time(s) 0.0056 | Loss 0.8641 | Accuracy 0.5420 | TEPS 1895753.62\n",
            "Epoch 00030 | Time(s) 0.0056 | Loss 0.8479 | Accuracy 0.5460 | TEPS 1899426.19\n",
            "Epoch 00031 | Time(s) 0.0055 | Loss 0.7645 | Accuracy 0.5420 | TEPS 1905892.46\n",
            "Epoch 00032 | Time(s) 0.0055 | Loss 0.8607 | Accuracy 0.5120 | TEPS 1912049.61\n",
            "Epoch 00033 | Time(s) 0.0055 | Loss 0.7246 | Accuracy 0.5300 | TEPS 1914665.94\n",
            "Epoch 00034 | Time(s) 0.0055 | Loss 0.7236 | Accuracy 0.5600 | TEPS 1910497.63\n",
            "Epoch 00035 | Time(s) 0.0055 | Loss 0.6816 | Accuracy 0.5260 | TEPS 1903974.38\n",
            "Epoch 00036 | Time(s) 0.0055 | Loss 0.6621 | Accuracy 0.5880 | TEPS 1907841.57\n",
            "Epoch 00037 | Time(s) 0.0055 | Loss 0.5739 | Accuracy 0.5840 | TEPS 1913091.23\n",
            "Epoch 00038 | Time(s) 0.0055 | Loss 0.5775 | Accuracy 0.5820 | TEPS 1918077.14\n",
            "Epoch 00039 | Time(s) 0.0055 | Loss 0.5095 | Accuracy 0.5460 | TEPS 1922748.13\n",
            "Epoch 00040 | Time(s) 0.0055 | Loss 0.5363 | Accuracy 0.5460 | TEPS 1927611.48\n",
            "Epoch 00041 | Time(s) 0.0055 | Loss 0.5093 | Accuracy 0.5920 | TEPS 1914329.70\n",
            "Epoch 00042 | Time(s) 0.0055 | Loss 0.5623 | Accuracy 0.5960 | TEPS 1915524.33\n",
            "Epoch 00043 | Time(s) 0.0055 | Loss 0.4503 | Accuracy 0.5740 | TEPS 1920232.95\n",
            "Epoch 00044 | Time(s) 0.0055 | Loss 0.4479 | Accuracy 0.5700 | TEPS 1924529.02\n",
            "Epoch 00045 | Time(s) 0.0055 | Loss 0.4873 | Accuracy 0.5960 | TEPS 1928373.27\n",
            "Epoch 00046 | Time(s) 0.0055 | Loss 0.3741 | Accuracy 0.6420 | TEPS 1932411.05\n",
            "Epoch 00047 | Time(s) 0.0055 | Loss 0.3735 | Accuracy 0.6220 | TEPS 1936264.73\n",
            "Epoch 00048 | Time(s) 0.0054 | Loss 0.4377 | Accuracy 0.5740 | TEPS 1939847.22\n",
            "Epoch 00049 | Time(s) 0.0054 | Loss 0.4148 | Accuracy 0.5980 | TEPS 1937349.99\n",
            "Epoch 00050 | Time(s) 0.0054 | Loss 0.3778 | Accuracy 0.6240 | TEPS 1940864.32\n",
            "Epoch 00051 | Time(s) 0.0054 | Loss 0.3754 | Accuracy 0.5860 | TEPS 1942819.94\n",
            "Epoch 00052 | Time(s) 0.0054 | Loss 0.3487 | Accuracy 0.6220 | TEPS 1946341.08\n",
            "Epoch 00053 | Time(s) 0.0054 | Loss 0.3532 | Accuracy 0.6240 | TEPS 1948844.35\n",
            "Epoch 00054 | Time(s) 0.0054 | Loss 0.3524 | Accuracy 0.5940 | TEPS 1952174.67\n",
            "Epoch 00055 | Time(s) 0.0054 | Loss 0.2925 | Accuracy 0.5900 | TEPS 1954995.97\n",
            "Epoch 00056 | Time(s) 0.0054 | Loss 0.3605 | Accuracy 0.6160 | TEPS 1957583.27\n",
            "Epoch 00057 | Time(s) 0.0054 | Loss 0.2812 | Accuracy 0.6520 | TEPS 1958643.69\n",
            "Epoch 00058 | Time(s) 0.0054 | Loss 0.2502 | Accuracy 0.6600 | TEPS 1961146.37\n",
            "Epoch 00059 | Time(s) 0.0054 | Loss 0.2576 | Accuracy 0.6480 | TEPS 1963551.39\n",
            "Epoch 00060 | Time(s) 0.0054 | Loss 0.1870 | Accuracy 0.6280 | TEPS 1948047.90\n",
            "Epoch 00061 | Time(s) 0.0054 | Loss 0.2669 | Accuracy 0.6580 | TEPS 1949213.89\n",
            "Epoch 00062 | Time(s) 0.0054 | Loss 0.2639 | Accuracy 0.6780 | TEPS 1950655.17\n",
            "Epoch 00063 | Time(s) 0.0054 | Loss 0.2240 | Accuracy 0.6240 | TEPS 1950709.60\n",
            "Epoch 00064 | Time(s) 0.0054 | Loss 0.2204 | Accuracy 0.6360 | TEPS 1950946.19\n",
            "Epoch 00065 | Time(s) 0.0054 | Loss 0.1793 | Accuracy 0.6260 | TEPS 1952273.27\n",
            "Epoch 00066 | Time(s) 0.0054 | Loss 0.2350 | Accuracy 0.6460 | TEPS 1953795.35\n",
            "Epoch 00067 | Time(s) 0.0054 | Loss 0.1955 | Accuracy 0.6520 | TEPS 1955653.42\n",
            "Epoch 00068 | Time(s) 0.0054 | Loss 0.2891 | Accuracy 0.6480 | TEPS 1940627.24\n",
            "Epoch 00069 | Time(s) 0.0055 | Loss 0.1971 | Accuracy 0.6440 | TEPS 1928061.73\n",
            "Epoch 00070 | Time(s) 0.0055 | Loss 0.2492 | Accuracy 0.6680 | TEPS 1916215.34\n",
            "Epoch 00071 | Time(s) 0.0055 | Loss 0.1789 | Accuracy 0.6400 | TEPS 1910859.81\n",
            "Epoch 00072 | Time(s) 0.0055 | Loss 0.2277 | Accuracy 0.6600 | TEPS 1911894.34\n",
            "Epoch 00073 | Time(s) 0.0055 | Loss 0.2303 | Accuracy 0.6580 | TEPS 1912811.53\n",
            "Epoch 00074 | Time(s) 0.0055 | Loss 0.1935 | Accuracy 0.6480 | TEPS 1913548.51\n",
            "Epoch 00075 | Time(s) 0.0056 | Loss 0.1750 | Accuracy 0.6500 | TEPS 1900135.10\n",
            "Epoch 00076 | Time(s) 0.0056 | Loss 0.2282 | Accuracy 0.6480 | TEPS 1894574.45\n",
            "Epoch 00077 | Time(s) 0.0056 | Loss 0.2573 | Accuracy 0.6580 | TEPS 1895089.49\n",
            "Epoch 00078 | Time(s) 0.0056 | Loss 0.2088 | Accuracy 0.6520 | TEPS 1896589.82\n",
            "Epoch 00079 | Time(s) 0.0056 | Loss 0.1594 | Accuracy 0.6280 | TEPS 1897129.80\n",
            "Epoch 00080 | Time(s) 0.0056 | Loss 0.2467 | Accuracy 0.6520 | TEPS 1898317.70\n",
            "Epoch 00081 | Time(s) 0.0056 | Loss 0.1917 | Accuracy 0.6820 | TEPS 1899317.08\n",
            "Epoch 00082 | Time(s) 0.0056 | Loss 0.2840 | Accuracy 0.6620 | TEPS 1898816.61\n",
            "Epoch 00083 | Time(s) 0.0056 | Loss 0.2527 | Accuracy 0.6400 | TEPS 1899763.46\n",
            "Epoch 00084 | Time(s) 0.0056 | Loss 0.1486 | Accuracy 0.6580 | TEPS 1899826.35\n",
            "Epoch 00085 | Time(s) 0.0056 | Loss 0.1189 | Accuracy 0.6720 | TEPS 1897898.16\n",
            "Epoch 00086 | Time(s) 0.0056 | Loss 0.1523 | Accuracy 0.6780 | TEPS 1896855.58\n",
            "Epoch 00087 | Time(s) 0.0056 | Loss 0.1548 | Accuracy 0.6680 | TEPS 1897654.08\n",
            "Epoch 00088 | Time(s) 0.0056 | Loss 0.1376 | Accuracy 0.6500 | TEPS 1898907.35\n",
            "Epoch 00089 | Time(s) 0.0056 | Loss 0.1634 | Accuracy 0.6740 | TEPS 1900463.33\n",
            "Epoch 00090 | Time(s) 0.0055 | Loss 0.2144 | Accuracy 0.6540 | TEPS 1902107.90\n",
            "Epoch 00091 | Time(s) 0.0055 | Loss 0.1342 | Accuracy 0.6700 | TEPS 1904309.56\n",
            "Epoch 00092 | Time(s) 0.0055 | Loss 0.1586 | Accuracy 0.6800 | TEPS 1902257.02\n",
            "Epoch 00093 | Time(s) 0.0056 | Loss 0.0768 | Accuracy 0.6840 | TEPS 1899344.45\n",
            "Epoch 00094 | Time(s) 0.0056 | Loss 0.1923 | Accuracy 0.6620 | TEPS 1901403.15\n",
            "Epoch 00095 | Time(s) 0.0055 | Loss 0.1585 | Accuracy 0.7080 | TEPS 1902093.63\n",
            "Epoch 00096 | Time(s) 0.0056 | Loss 0.1295 | Accuracy 0.7020 | TEPS 1900221.09\n",
            "Epoch 00097 | Time(s) 0.0056 | Loss 0.1085 | Accuracy 0.7020 | TEPS 1901956.09\n",
            "Epoch 00098 | Time(s) 0.0056 | Loss 0.2256 | Accuracy 0.6620 | TEPS 1896897.11\n",
            "Epoch 00099 | Time(s) 0.0056 | Loss 0.1428 | Accuracy 0.6560 | TEPS 1893463.83\n",
            "Epoch 00100 | Time(s) 0.0056 | Loss 0.1114 | Accuracy 0.6940 | TEPS 1894928.23\n",
            "Epoch 00101 | Time(s) 0.0056 | Loss 0.1961 | Accuracy 0.6660 | TEPS 1886327.04\n",
            "Epoch 00102 | Time(s) 0.0056 | Loss 0.1506 | Accuracy 0.6820 | TEPS 1887070.59\n",
            "Epoch 00103 | Time(s) 0.0056 | Loss 0.1110 | Accuracy 0.6620 | TEPS 1888682.36\n",
            "Epoch 00104 | Time(s) 0.0056 | Loss 0.1391 | Accuracy 0.6760 | TEPS 1889156.91\n",
            "Epoch 00105 | Time(s) 0.0056 | Loss 0.1166 | Accuracy 0.6780 | TEPS 1890297.83\n",
            "Epoch 00106 | Time(s) 0.0056 | Loss 0.1721 | Accuracy 0.7040 | TEPS 1891844.02\n",
            "Epoch 00107 | Time(s) 0.0056 | Loss 0.2058 | Accuracy 0.6820 | TEPS 1893776.45\n",
            "Epoch 00108 | Time(s) 0.0056 | Loss 0.1761 | Accuracy 0.6960 | TEPS 1889856.52\n",
            "Epoch 00109 | Time(s) 0.0056 | Loss 0.1222 | Accuracy 0.6800 | TEPS 1889373.91\n",
            "Epoch 00110 | Time(s) 0.0056 | Loss 0.1367 | Accuracy 0.6720 | TEPS 1889808.91\n",
            "Epoch 00111 | Time(s) 0.0056 | Loss 0.1252 | Accuracy 0.6960 | TEPS 1890936.95\n",
            "Epoch 00112 | Time(s) 0.0056 | Loss 0.1596 | Accuracy 0.6580 | TEPS 1890335.63\n",
            "Epoch 00113 | Time(s) 0.0056 | Loss 0.0857 | Accuracy 0.6660 | TEPS 1887550.91\n",
            "Epoch 00114 | Time(s) 0.0056 | Loss 0.1517 | Accuracy 0.6840 | TEPS 1889202.61\n",
            "Epoch 00115 | Time(s) 0.0056 | Loss 0.1698 | Accuracy 0.6300 | TEPS 1890844.66\n",
            "Epoch 00116 | Time(s) 0.0056 | Loss 0.1468 | Accuracy 0.6580 | TEPS 1892520.88\n",
            "Epoch 00117 | Time(s) 0.0057 | Loss 0.1159 | Accuracy 0.6480 | TEPS 1866725.44\n",
            "Epoch 00118 | Time(s) 0.0057 | Loss 0.1547 | Accuracy 0.6120 | TEPS 1864305.95\n",
            "Epoch 00119 | Time(s) 0.0057 | Loss 0.1560 | Accuracy 0.6700 | TEPS 1865880.45\n",
            "training complete\n"
          ],
          "name": "stdout"
        }
      ]
    },
    {
      "cell_type": "code",
      "metadata": {
        "colab": {
          "base_uri": "https://localhost:8080/"
        },
        "id": "9yTTbNBFt2wn",
        "outputId": "c8fc8efa-c462-42a8-e664-0eb4327a9695"
      },
      "source": [
        "acc = get_accuracy(last_output[test_mask], labels_test)\n",
        "print(\"Test Accuracy {:.4f}\".format(acc))"
      ],
      "execution_count": 22,
      "outputs": [
        {
          "output_type": "stream",
          "text": [
            "Test Accuracy 0.6790\n"
          ],
          "name": "stdout"
        }
      ]
    },
    {
      "cell_type": "markdown",
      "metadata": {
        "id": "80-x2gnCt2wn"
      },
      "source": [
        "Slightly better! Lets change the aggregation function. \n",
        "in the original GraphSAGE paper they found the LSTM and pool methods generally outperformed the mean and GCN aggregation across a range of datasets.\n",
        "Lets try the **pool** method (which refers to a max pool aggregator over the neighbourhood) and bump the number of hidden channels up."
      ]
    },
    {
      "cell_type": "code",
      "metadata": {
        "id": "8mhJL9KKt2wo"
      },
      "source": [
        "model = GraphSAGE(g, n_features, 128, n_classes, 2, 'pool', F.relu, 0.3)\n",
        "if torch.cuda.is_available():\n",
        "    model.cuda()\n",
        "optimizer = torch.optim.Adam(\n",
        "    model.parameters(), lr=0.003, weight_decay=weight_decay\n",
        ")"
      ],
      "execution_count": 23,
      "outputs": []
    },
    {
      "cell_type": "code",
      "metadata": {
        "colab": {
          "base_uri": "https://localhost:8080/"
        },
        "id": "v-Qj8gBCt2wo",
        "outputId": "c2ef9e33-18a5-42ec-899d-42f546922689"
      },
      "source": [
        "model, last_output, all_train_logits = train(model, optimizer, n_epochs)"
      ],
      "execution_count": 24,
      "outputs": [
        {
          "output_type": "stream",
          "text": [
            "Epoch 00000 | Time(s) 0.0190 | Loss 1.9694 | Accuracy 0.1220 | TEPS 554728.16\n",
            "Epoch 00001 | Time(s) 0.0147 | Loss 1.9235 | Accuracy 0.1300 | TEPS 718762.85\n",
            "Epoch 00002 | Time(s) 0.0132 | Loss 1.9324 | Accuracy 0.1460 | TEPS 801189.61\n",
            "Epoch 00003 | Time(s) 0.0124 | Loss 1.8544 | Accuracy 0.2440 | TEPS 851108.18\n",
            "Epoch 00004 | Time(s) 0.0122 | Loss 1.7394 | Accuracy 0.2260 | TEPS 866582.24\n",
            "Epoch 00005 | Time(s) 0.0118 | Loss 1.7740 | Accuracy 0.1660 | TEPS 892546.63\n",
            "Epoch 00006 | Time(s) 0.0116 | Loss 1.6723 | Accuracy 0.2180 | TEPS 912117.04\n",
            "Epoch 00007 | Time(s) 0.0114 | Loss 1.5531 | Accuracy 0.3140 | TEPS 925876.63\n",
            "Epoch 00008 | Time(s) 0.0116 | Loss 1.4408 | Accuracy 0.3940 | TEPS 913603.92\n",
            "Epoch 00009 | Time(s) 0.0114 | Loss 1.4260 | Accuracy 0.3620 | TEPS 925681.60\n",
            "Epoch 00010 | Time(s) 0.0111 | Loss 1.2600 | Accuracy 0.4380 | TEPS 949042.44\n",
            "Epoch 00011 | Time(s) 0.0109 | Loss 1.2367 | Accuracy 0.4500 | TEPS 970806.20\n",
            "Epoch 00012 | Time(s) 0.0107 | Loss 1.0003 | Accuracy 0.5120 | TEPS 988386.40\n",
            "Epoch 00013 | Time(s) 0.0105 | Loss 0.8699 | Accuracy 0.5500 | TEPS 1005964.24\n",
            "Epoch 00014 | Time(s) 0.0106 | Loss 0.7716 | Accuracy 0.6060 | TEPS 991719.96\n",
            "Epoch 00015 | Time(s) 0.0105 | Loss 0.6182 | Accuracy 0.6380 | TEPS 1003922.96\n",
            "Epoch 00016 | Time(s) 0.0104 | Loss 0.5728 | Accuracy 0.6320 | TEPS 1015765.64\n",
            "Epoch 00017 | Time(s) 0.0103 | Loss 0.4166 | Accuracy 0.6560 | TEPS 1027685.12\n",
            "Epoch 00018 | Time(s) 0.0102 | Loss 0.3794 | Accuracy 0.6540 | TEPS 1037475.20\n",
            "Epoch 00019 | Time(s) 0.0101 | Loss 0.3197 | Accuracy 0.7040 | TEPS 1047453.48\n",
            "Epoch 00020 | Time(s) 0.0100 | Loss 0.2862 | Accuracy 0.6980 | TEPS 1056176.58\n",
            "Epoch 00021 | Time(s) 0.0099 | Loss 0.3573 | Accuracy 0.5800 | TEPS 1064059.32\n",
            "Epoch 00022 | Time(s) 0.0099 | Loss 0.2076 | Accuracy 0.6800 | TEPS 1070899.27\n",
            "Epoch 00023 | Time(s) 0.0098 | Loss 0.1996 | Accuracy 0.7000 | TEPS 1078896.32\n",
            "Epoch 00024 | Time(s) 0.0097 | Loss 0.1119 | Accuracy 0.7280 | TEPS 1087976.50\n",
            "Epoch 00025 | Time(s) 0.0097 | Loss 0.1195 | Accuracy 0.7100 | TEPS 1092354.81\n",
            "Epoch 00026 | Time(s) 0.0096 | Loss 0.1279 | Accuracy 0.6900 | TEPS 1098818.82\n",
            "Epoch 00027 | Time(s) 0.0096 | Loss 0.1062 | Accuracy 0.7220 | TEPS 1104637.96\n",
            "Epoch 00028 | Time(s) 0.0095 | Loss 0.0550 | Accuracy 0.7320 | TEPS 1110887.51\n",
            "Epoch 00029 | Time(s) 0.0095 | Loss 0.0511 | Accuracy 0.7280 | TEPS 1114590.72\n",
            "Epoch 00030 | Time(s) 0.0094 | Loss 0.0397 | Accuracy 0.7300 | TEPS 1120114.96\n",
            "Epoch 00031 | Time(s) 0.0094 | Loss 0.0455 | Accuracy 0.7260 | TEPS 1125433.29\n",
            "Epoch 00032 | Time(s) 0.0094 | Loss 0.0146 | Accuracy 0.7360 | TEPS 1128321.78\n",
            "Epoch 00033 | Time(s) 0.0094 | Loss 0.0466 | Accuracy 0.6740 | TEPS 1128631.19\n",
            "Epoch 00034 | Time(s) 0.0095 | Loss 0.0456 | Accuracy 0.6760 | TEPS 1110764.50\n",
            "Epoch 00035 | Time(s) 0.0095 | Loss 0.0367 | Accuracy 0.7500 | TEPS 1114027.49\n",
            "Epoch 00036 | Time(s) 0.0094 | Loss 0.0154 | Accuracy 0.7580 | TEPS 1119100.73\n",
            "Epoch 00037 | Time(s) 0.0094 | Loss 0.0218 | Accuracy 0.7200 | TEPS 1117206.58\n",
            "Epoch 00038 | Time(s) 0.0094 | Loss 0.0882 | Accuracy 0.6980 | TEPS 1121637.14\n",
            "Epoch 00039 | Time(s) 0.0094 | Loss 0.0114 | Accuracy 0.7500 | TEPS 1124930.55\n",
            "Epoch 00040 | Time(s) 0.0094 | Loss 0.0249 | Accuracy 0.7460 | TEPS 1128203.31\n",
            "Epoch 00041 | Time(s) 0.0093 | Loss 0.0094 | Accuracy 0.7400 | TEPS 1131353.80\n",
            "Epoch 00042 | Time(s) 0.0094 | Loss 0.0129 | Accuracy 0.7520 | TEPS 1123543.15\n",
            "Epoch 00043 | Time(s) 0.0094 | Loss 0.0178 | Accuracy 0.7320 | TEPS 1127442.40\n",
            "Epoch 00044 | Time(s) 0.0093 | Loss 0.0226 | Accuracy 0.7240 | TEPS 1130857.92\n",
            "Epoch 00045 | Time(s) 0.0093 | Loss 0.0055 | Accuracy 0.7100 | TEPS 1134102.69\n",
            "Epoch 00046 | Time(s) 0.0093 | Loss 0.0126 | Accuracy 0.6840 | TEPS 1136722.44\n",
            "Epoch 00047 | Time(s) 0.0093 | Loss 0.0303 | Accuracy 0.7080 | TEPS 1139686.74\n",
            "Epoch 00048 | Time(s) 0.0092 | Loss 0.0118 | Accuracy 0.6880 | TEPS 1142327.44\n",
            "Epoch 00049 | Time(s) 0.0092 | Loss 0.0138 | Accuracy 0.7020 | TEPS 1145638.35\n",
            "Epoch 00050 | Time(s) 0.0092 | Loss 0.0159 | Accuracy 0.7060 | TEPS 1148310.57\n",
            "Epoch 00051 | Time(s) 0.0092 | Loss 0.0129 | Accuracy 0.7520 | TEPS 1144428.38\n",
            "Epoch 00052 | Time(s) 0.0092 | Loss 0.0047 | Accuracy 0.7340 | TEPS 1146261.17\n",
            "Epoch 00053 | Time(s) 0.0092 | Loss 0.0130 | Accuracy 0.7260 | TEPS 1148420.40\n",
            "Epoch 00054 | Time(s) 0.0092 | Loss 0.0151 | Accuracy 0.7280 | TEPS 1150427.84\n",
            "Epoch 00055 | Time(s) 0.0092 | Loss 0.0076 | Accuracy 0.7140 | TEPS 1152751.18\n",
            "Epoch 00056 | Time(s) 0.0091 | Loss 0.0162 | Accuracy 0.6600 | TEPS 1155102.35\n",
            "Epoch 00057 | Time(s) 0.0091 | Loss 0.0178 | Accuracy 0.6940 | TEPS 1157457.21\n",
            "Epoch 00058 | Time(s) 0.0091 | Loss 0.0036 | Accuracy 0.7500 | TEPS 1158852.33\n",
            "Epoch 00059 | Time(s) 0.0091 | Loss 0.0062 | Accuracy 0.7420 | TEPS 1154936.12\n",
            "Epoch 00060 | Time(s) 0.0091 | Loss 0.0030 | Accuracy 0.7400 | TEPS 1156892.02\n",
            "Epoch 00061 | Time(s) 0.0091 | Loss 0.0188 | Accuracy 0.7220 | TEPS 1156784.62\n",
            "Epoch 00062 | Time(s) 0.0091 | Loss 0.0145 | Accuracy 0.7240 | TEPS 1159118.58\n",
            "Epoch 00063 | Time(s) 0.0091 | Loss 0.0619 | Accuracy 0.7160 | TEPS 1159107.76\n",
            "Epoch 00064 | Time(s) 0.0091 | Loss 0.0083 | Accuracy 0.7160 | TEPS 1160980.76\n",
            "Epoch 00065 | Time(s) 0.0091 | Loss 0.0181 | Accuracy 0.6460 | TEPS 1158273.46\n",
            "Epoch 00066 | Time(s) 0.0091 | Loss 0.0883 | Accuracy 0.6320 | TEPS 1159872.16\n",
            "Epoch 00067 | Time(s) 0.0091 | Loss 0.0236 | Accuracy 0.7020 | TEPS 1161419.12\n",
            "Epoch 00068 | Time(s) 0.0091 | Loss 0.0085 | Accuracy 0.7060 | TEPS 1160448.78\n",
            "Epoch 00069 | Time(s) 0.0091 | Loss 0.2178 | Accuracy 0.6700 | TEPS 1161983.04\n",
            "Epoch 00070 | Time(s) 0.0091 | Loss 0.0076 | Accuracy 0.7440 | TEPS 1162641.88\n",
            "Epoch 00071 | Time(s) 0.0091 | Loss 0.0453 | Accuracy 0.6860 | TEPS 1164089.82\n",
            "Epoch 00072 | Time(s) 0.0091 | Loss 0.1517 | Accuracy 0.6220 | TEPS 1165453.64\n",
            "Epoch 00073 | Time(s) 0.0090 | Loss 0.0250 | Accuracy 0.6520 | TEPS 1166979.84\n",
            "Epoch 00074 | Time(s) 0.0090 | Loss 0.2009 | Accuracy 0.5960 | TEPS 1168784.21\n",
            "Epoch 00075 | Time(s) 0.0090 | Loss 0.0156 | Accuracy 0.7220 | TEPS 1170517.96\n",
            "Epoch 00076 | Time(s) 0.0090 | Loss 0.0352 | Accuracy 0.7160 | TEPS 1169748.13\n",
            "Epoch 00077 | Time(s) 0.0090 | Loss 0.1353 | Accuracy 0.6800 | TEPS 1170855.05\n",
            "Epoch 00078 | Time(s) 0.0090 | Loss 0.0453 | Accuracy 0.7280 | TEPS 1172378.66\n",
            "Epoch 00079 | Time(s) 0.0090 | Loss 0.2196 | Accuracy 0.6260 | TEPS 1174004.57\n",
            "Epoch 00080 | Time(s) 0.0090 | Loss 0.1302 | Accuracy 0.6580 | TEPS 1175398.19\n",
            "Epoch 00081 | Time(s) 0.0090 | Loss 0.0385 | Accuracy 0.7020 | TEPS 1176950.60\n",
            "Epoch 00082 | Time(s) 0.0090 | Loss 0.0427 | Accuracy 0.6980 | TEPS 1174174.35\n",
            "Epoch 00083 | Time(s) 0.0090 | Loss 0.0154 | Accuracy 0.7080 | TEPS 1173724.27\n",
            "Epoch 00084 | Time(s) 0.0090 | Loss 0.0266 | Accuracy 0.7040 | TEPS 1173334.49\n",
            "Epoch 00085 | Time(s) 0.0090 | Loss 0.0326 | Accuracy 0.6900 | TEPS 1170482.33\n",
            "Epoch 00086 | Time(s) 0.0090 | Loss 0.0288 | Accuracy 0.6740 | TEPS 1169969.45\n",
            "Epoch 00087 | Time(s) 0.0090 | Loss 0.0338 | Accuracy 0.6440 | TEPS 1171399.30\n",
            "Epoch 00088 | Time(s) 0.0090 | Loss 0.0342 | Accuracy 0.6540 | TEPS 1172626.94\n",
            "Epoch 00089 | Time(s) 0.0090 | Loss 0.0297 | Accuracy 0.6620 | TEPS 1173567.75\n",
            "Epoch 00090 | Time(s) 0.0090 | Loss 0.0148 | Accuracy 0.6920 | TEPS 1175269.43\n",
            "Epoch 00091 | Time(s) 0.0090 | Loss 0.0128 | Accuracy 0.7060 | TEPS 1176495.30\n",
            "Epoch 00092 | Time(s) 0.0090 | Loss 0.0076 | Accuracy 0.7200 | TEPS 1177650.79\n",
            "Epoch 00093 | Time(s) 0.0090 | Loss 0.0052 | Accuracy 0.7240 | TEPS 1175727.22\n",
            "Epoch 00094 | Time(s) 0.0090 | Loss 0.0070 | Accuracy 0.7280 | TEPS 1176484.13\n",
            "Epoch 00095 | Time(s) 0.0090 | Loss 0.0128 | Accuracy 0.7120 | TEPS 1177756.28\n",
            "Epoch 00096 | Time(s) 0.0090 | Loss 0.0100 | Accuracy 0.7340 | TEPS 1179214.01\n",
            "Epoch 00097 | Time(s) 0.0089 | Loss 0.0096 | Accuracy 0.7360 | TEPS 1180413.58\n",
            "Epoch 00098 | Time(s) 0.0089 | Loss 0.0090 | Accuracy 0.7280 | TEPS 1181346.71\n",
            "Epoch 00099 | Time(s) 0.0089 | Loss 0.0096 | Accuracy 0.7360 | TEPS 1180414.27\n",
            "Epoch 00100 | Time(s) 0.0090 | Loss 0.0072 | Accuracy 0.7480 | TEPS 1179291.14\n",
            "Epoch 00101 | Time(s) 0.0089 | Loss 0.0103 | Accuracy 0.7440 | TEPS 1180467.09\n",
            "Epoch 00102 | Time(s) 0.0090 | Loss 0.0093 | Accuracy 0.7460 | TEPS 1179117.83\n",
            "Epoch 00103 | Time(s) 0.0089 | Loss 0.0093 | Accuracy 0.7480 | TEPS 1180203.19\n",
            "Epoch 00104 | Time(s) 0.0089 | Loss 0.0064 | Accuracy 0.7540 | TEPS 1181432.23\n",
            "Epoch 00105 | Time(s) 0.0089 | Loss 0.0097 | Accuracy 0.7540 | TEPS 1182560.71\n",
            "Epoch 00106 | Time(s) 0.0089 | Loss 0.0048 | Accuracy 0.7580 | TEPS 1183544.52\n",
            "Epoch 00107 | Time(s) 0.0089 | Loss 0.0044 | Accuracy 0.7360 | TEPS 1184575.37\n",
            "Epoch 00108 | Time(s) 0.0089 | Loss 0.0064 | Accuracy 0.7320 | TEPS 1185535.76\n",
            "Epoch 00109 | Time(s) 0.0089 | Loss 0.0067 | Accuracy 0.7560 | TEPS 1184367.57\n",
            "Epoch 00110 | Time(s) 0.0089 | Loss 0.0032 | Accuracy 0.7620 | TEPS 1182045.89\n",
            "Epoch 00111 | Time(s) 0.0089 | Loss 0.0067 | Accuracy 0.7360 | TEPS 1182729.10\n",
            "Epoch 00112 | Time(s) 0.0089 | Loss 0.0044 | Accuracy 0.7460 | TEPS 1183800.83\n",
            "Epoch 00113 | Time(s) 0.0089 | Loss 0.0044 | Accuracy 0.7440 | TEPS 1184785.29\n",
            "Epoch 00114 | Time(s) 0.0089 | Loss 0.0151 | Accuracy 0.7280 | TEPS 1185843.15\n",
            "Epoch 00115 | Time(s) 0.0089 | Loss 0.0037 | Accuracy 0.7320 | TEPS 1186728.02\n",
            "Epoch 00116 | Time(s) 0.0089 | Loss 0.0038 | Accuracy 0.7400 | TEPS 1184533.64\n",
            "Epoch 00117 | Time(s) 0.0089 | Loss 0.0036 | Accuracy 0.7340 | TEPS 1183842.65\n",
            "Epoch 00118 | Time(s) 0.0089 | Loss 0.0031 | Accuracy 0.7400 | TEPS 1184789.69\n",
            "Epoch 00119 | Time(s) 0.0089 | Loss 0.0048 | Accuracy 0.7060 | TEPS 1185531.66\n",
            "training complete\n"
          ],
          "name": "stdout"
        }
      ]
    },
    {
      "cell_type": "code",
      "metadata": {
        "colab": {
          "base_uri": "https://localhost:8080/"
        },
        "id": "ZJg8VMvct2wp",
        "outputId": "b7bcf12f-18dc-4e78-aac1-7493b1ffdff5"
      },
      "source": [
        "acc = get_accuracy(last_output[test_mask], labels_test)\n",
        "print(\"Test Accuracy {:.4f}\".format(acc))"
      ],
      "execution_count": 25,
      "outputs": [
        {
          "output_type": "stream",
          "text": [
            "Test Accuracy 0.7500\n"
          ],
          "name": "stdout"
        }
      ]
    },
    {
      "cell_type": "markdown",
      "metadata": {
        "id": "bArleowDt2wq"
      },
      "source": [
        "And finally the **LSTM** aggregation function:"
      ]
    },
    {
      "cell_type": "code",
      "metadata": {
        "id": "QQXlnGimt2wq"
      },
      "source": [
        "model = GraphSAGE(g, n_features, 128, n_classes, 2, 'lstm', F.relu, 0.1)\n",
        "if torch.cuda.is_available():\n",
        "    model.cuda()\n",
        "optimizer = torch.optim.Adam(\n",
        "    model.parameters(), lr=0.003, weight_decay=weight_decay\n",
        ")"
      ],
      "execution_count": 26,
      "outputs": []
    },
    {
      "cell_type": "code",
      "metadata": {
        "colab": {
          "base_uri": "https://localhost:8080/"
        },
        "id": "fXPwp6JGt2wq",
        "outputId": "8db8596f-5439-46c6-9386-58ab710bba55"
      },
      "source": [
        "model, last_output, all_train_logits = train(model, optimizer, n_epochs)"
      ],
      "execution_count": null,
      "outputs": [
        {
          "output_type": "stream",
          "text": [
            "Epoch 00000 | Time(s) 0.4972 | Loss 1.9492 | Accuracy 0.1060 | TEPS 21232.81\n",
            "Epoch 00001 | Time(s) 0.4820 | Loss 1.9285 | Accuracy 0.0900 | TEPS 21898.38\n",
            "Epoch 00002 | Time(s) 0.4774 | Loss 1.9310 | Accuracy 0.2720 | TEPS 22113.68\n",
            "Epoch 00003 | Time(s) 0.4725 | Loss 1.8781 | Accuracy 0.1520 | TEPS 22340.10\n",
            "Epoch 00004 | Time(s) 0.4701 | Loss 1.8380 | Accuracy 0.1400 | TEPS 22453.59\n",
            "Epoch 00005 | Time(s) 0.4686 | Loss 1.7596 | Accuracy 0.2060 | TEPS 22525.55\n"
          ],
          "name": "stdout"
        }
      ]
    },
    {
      "cell_type": "code",
      "metadata": {
        "id": "WoOwF4Ogt2wq"
      },
      "source": [
        "acc = get_accuracy(last_output[test_mask], labels_test)\n",
        "print(\"Test Accuracy {:.4f}\".format(acc))"
      ],
      "execution_count": null,
      "outputs": []
    },
    {
      "cell_type": "markdown",
      "metadata": {
        "id": "HBiQ3rrtt2wr"
      },
      "source": [
        "Not bad! See how high you can get the accuracy with some tweaking. \n",
        "Compare against the state-of-the-art here: https://paperswithcode.com/sota/node-classification-on-cora"
      ]
    },
    {
      "cell_type": "markdown",
      "metadata": {
        "id": "Te521FPqt2wr"
      },
      "source": [
        "We can plot an animation of the predictions during training (although we are limited to 2D)"
      ]
    },
    {
      "cell_type": "code",
      "metadata": {
        "id": "5QNhB3OUt2wr"
      },
      "source": [
        "# one colour for each class\n",
        "colors = ['red', 'green', 'blue', 'yellow', 'orange', 'purple', 'pink']\n",
        "# to keep the graph small lets only consider training nodes\n",
        "train_nodes = train_mask.cpu().numpy()\n",
        "labels_train = labels[train_mask]\n",
        "non_train = np.ones(len(train_nodes))\n",
        "non_train[train_nodes] = 0\n",
        "non_train = np.where(non_train)[0]\n",
        "if torch.cuda.is_available():\n",
        "  nx_g = model.g.cpu().to_networkx()\n",
        "else:\n",
        "  nx_g = model.g.to_networkx()\n",
        "nx_g.remove_nodes_from(non_train)\n",
        "rn_nodes = range(nx_g.number_of_nodes())"
      ],
      "execution_count": null,
      "outputs": []
    },
    {
      "cell_type": "code",
      "metadata": {
        "id": "R3C5bvfft2wr"
      },
      "source": [
        "def draw_epoch(i):\n",
        "    current_colors = []\n",
        "    if torch.cuda.is_available():\n",
        "        logits = all_train_logits[i].detach().cpu().numpy()\n",
        "    else:\n",
        "        logits = all_train_logits[i].detach().numpy()\n",
        "        \n",
        "    max_ix = logits.argmax(axis=1)\n",
        "    \n",
        "    # choose x, y position based on the magnitude of their highest \n",
        "    #min_ix = max_ix - 1\n",
        "    #pos = {n: [logits[n, max_ix[n]], logits[n, min_ix[n]]] for n in rn_nodes}\n",
        "    #node_size = 100\n",
        "    # x=node_index, y = certainty, color=class \n",
        "    #pos = {n: [n, logits[n, max_ix[n]]] for n in rn_nodes}\n",
        "    #node_size = 100\n",
        "    \n",
        "    # x=node_index, y = class, size = certainty\n",
        "    pos = {n: [n, max_ix[n]] for n in rn_nodes}\n",
        "    node_size = logits.max(axis=1) * 100\n",
        "    \n",
        "    # cols = [colors[max_ix[n]] for n in rn_nodes]\n",
        "    # use real label for color    \n",
        "    cols = [colors[labels_train[n]] for n in rn_nodes]\n",
        "    \n",
        "    ax.cla()\n",
        "    ax.axis('off')\n",
        "    ax.set_title('Epoch: %d' % i)\n",
        "    nx.draw_networkx(nx_g, pos, node_color=cols,\n",
        "            with_labels=True, node_size=node_size, ax=ax, \n",
        "            edge_color='purple', arrows=False, alpha=0.6)\n",
        "\n",
        "fig = plt.figure(dpi=100)\n",
        "fig.clf()\n",
        "ax = fig.subplots()\n",
        "draw_epoch(0)  # draw the prediction of the first epoch\n",
        "plt.close()\n"
      ],
      "execution_count": null,
      "outputs": []
    },
    {
      "cell_type": "code",
      "metadata": {
        "id": "-s0o1A8xt2ws"
      },
      "source": [
        "ani = animation.FuncAnimation(fig, draw_epoch, frames=len(all_train_logits), interval=100)"
      ],
      "execution_count": null,
      "outputs": []
    },
    {
      "cell_type": "code",
      "metadata": {
        "id": "ngxlIRrpt2ws",
        "scrolled": false
      },
      "source": [
        "HTML(ani.to_jshtml())"
      ],
      "execution_count": null,
      "outputs": []
    },
    {
      "cell_type": "markdown",
      "metadata": {
        "id": "Wo2w5BqPt2xI"
      },
      "source": [
        "Note how the separation of the nodes into classes improves with more training epochs."
      ]
    },
    {
      "cell_type": "code",
      "metadata": {
        "id": "InkJXgwht2xI"
      },
      "source": [
        "if torch.cuda.is_available():\n",
        "  logits = all_train_logits[0].cpu().detach().numpy()\n",
        "else:\n",
        "  logits = all_train_logits[0].detach().numpy()\n",
        "logits.max(axis=1)\n",
        "# logits.argmax(axis=1)\n",
        "# logits"
      ],
      "execution_count": null,
      "outputs": []
    }
  ]
}